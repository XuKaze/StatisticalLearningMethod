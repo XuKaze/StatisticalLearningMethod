{
 "cells": [
  {
   "cell_type": "markdown",
   "metadata": {},
   "source": [
    "# Hidden Markov Model"
   ]
  },
  {
   "cell_type": "markdown",
   "metadata": {},
   "source": [
    "# Hidden Markov Model"
   ]
  },
  {
   "cell_type": "markdown",
   "metadata": {},
   "source": [
    "HMM has an important assumption:\n",
    "\n",
    "1) The status at time t only depends on the status at time t-1\n",
    "\n",
    "$P(i_t|i_{t-1}, o_{t-1}, ... , i_1, o_1) = P(i_t|i_{t-1})$\n",
    "\n",
    "\n",
    "Important parameters:\n",
    "\n",
    "A: transition probabilities\n",
    "\n",
    "B: emission probabilities\n",
    "\n",
    "$\\pi$: initial status\n",
    "\n",
    "\n",
    "Three main problems:\n",
    "\n",
    "1) Given model parameters $\\lambda \\{A,B,\\pi\\}$, compute the $P(O|\\lambda)$\n",
    "\n",
    "2) Given the observations O, estimate the parameters $\\lambda \\{A,B,\\pi\\}$, Maximum likelihood Estimation  $P(O|\\lambda)$\n",
    "\n",
    "3) Given the observations O and parameters $\\lambda \\{A,B,\\pi\\}$, finding the most likely possible status Z\n"
   ]
  },
  {
   "cell_type": "code",
   "execution_count": 236,
   "metadata": {},
   "outputs": [],
   "source": [
    "# The first problem\n",
    "\n",
    "\n",
    "\n",
    "A = np.array([[0.5, 0.2, 0.3],\n",
    "     [0.3, 0.5, 0.2],\n",
    "     [0.2, 0.3, 0.5]])\n",
    "\n",
    "B = np.array([[0.5, 0.5],\n",
    "     [0.4, 0.6],\n",
    "     [0.7, 0.3]])\n",
    "     \n",
    "pi = np.array([0.2, 0.4, 0.4])\n",
    "\n",
    "T = 4\n",
    "\n",
    "O = [0, 1, 0, 1]\n",
    " "
   ]
  },
  {
   "cell_type": "code",
   "execution_count": 303,
   "metadata": {},
   "outputs": [
    {
     "data": {
      "text/plain": [
       "0.06009079999999999"
      ]
     },
     "execution_count": 303,
     "metadata": {},
     "output_type": "execute_result"
    }
   ],
   "source": [
    "## Forward method\n",
    "\n",
    "alpha_t1 = B[:,0] * pi\n",
    "\n",
    "alpha_t2 = np.sum(A * alpha_t1[:, None], 0)  * B[:, 1]\n",
    "\n",
    "alpha_t3 = np.sum(A * alpha_t2[:, None], 0)  * B[:, 0]\n",
    "\n",
    "alpha_t4 = np.sum(A * alpha_t3[:, None], 0)  * B[:, 1]\n",
    "\n",
    "# P(O|lambda)\n",
    "np.sum(alpha_t4)"
   ]
  },
  {
   "cell_type": "code",
   "execution_count": 309,
   "metadata": {},
   "outputs": [
    {
     "data": {
      "text/plain": [
       "0.06009079999999999"
      ]
     },
     "execution_count": 309,
     "metadata": {},
     "output_type": "execute_result"
    }
   ],
   "source": [
    "## Backward method\n",
    "\n",
    "beta_t4 = 1\n",
    "\n",
    "beta_t3 = np.sum(A * B[:, 1] * beta_t4, 1)\n",
    "\n",
    "beta_t2 = np.sum(A * B[:, 0] * beta_t3, 1)\n",
    "\n",
    "beta_t1 = np.sum(A * B[:, 1] * beta_t2, 1)\n",
    "\n",
    "# P(O|lambda)\n",
    "np.sum(B[:, 0] * beta_t1 * pi)"
   ]
  },
  {
   "cell_type": "markdown",
   "metadata": {},
   "source": [
    "From the above two experiments, forward and backward methods could reach the same results on $P(O|\\lambda)$"
   ]
  },
  {
   "cell_type": "code",
   "execution_count": null,
   "metadata": {},
   "outputs": [],
   "source": [
    "# Hidden Markov Model\n",
    "\n",
    "HMM has an important assumption:\n",
    "\n",
    "1) The status at time t only depends on the status at time t-1\n",
    "\n",
    "$P(i_t|i_{t-1}, o_{t-1}, ... , i_1, o_1) = P(i_t|i_{t-1})$\n",
    "\n",
    "\n",
    "Important parameters:\n",
    "\n",
    "A: transition probabilities\n",
    "\n",
    "B: emission probabilities\n",
    "\n",
    "$\\pi$: initial status\n",
    "\n",
    "\n",
    "Three main problems:\n",
    "\n",
    "1) Given model parameters $\\lambda \\{A,B,\\pi\\}$, compute the $P(O|\\lambda)$\n",
    "\n",
    "2) Given the observations O, estimate the parameters $\\lambda \\{A,B,\\pi\\}$, Maximum likelihood Estimation  $P(O|\\lambda)$\n",
    "\n",
    "3) Given the observations O and parameters $\\lambda \\{A,B,\\pi\\}$, finding the most likely possible status Z\n",
    "\n",
    "\n",
    "# The first problem\n",
    "\n",
    "\n",
    "\n",
    "A = np.array([[0.5, 0.2, 0.3],\n",
    "     [0.3, 0.5, 0.2],\n",
    "     [0.2, 0.3, 0.5]])\n",
    "\n",
    "B = np.array([[0.5, 0.5],\n",
    "     [0.4, 0.6],\n",
    "     [0.7, 0.3]])\n",
    "     \n",
    "pi = np.array([0.2, 0.4, 0.4])\n",
    "\n",
    "T = 4\n",
    "\n",
    "O = [0, 1, 0, 1]\n",
    " \n",
    "\n",
    "## Forward method\n",
    "\n",
    "alpha_t1 = B[:,0] * pi\n",
    "\n",
    "alpha_t2 = np.sum(A * alpha_t1[:, None], 0)  * B[:, 1]\n",
    "\n",
    "alpha_t3 = np.sum(A * alpha_t2[:, None], 0)  * B[:, 0]\n",
    "\n",
    "alpha_t4 = np.sum(A * alpha_t3[:, None], 0)  * B[:, 1]\n",
    "\n",
    "# P(O|lambda)\n",
    "np.sum(alpha_t4)\n",
    "\n",
    "## Backward method\n",
    "\n",
    "beta_t4 = 1\n",
    "\n",
    "beta_t3 = np.sum(A * B[:, 1] * beta_t4, 1)\n",
    "\n",
    "beta_t2 = np.sum(A * B[:, 0] * beta_t3, 1)\n",
    "\n",
    "beta_t1 = np.sum(A * B[:, 1] * beta_t2, 1)\n",
    "\n",
    "# P(O|lambda)\n",
    "np.sum(B[:, 0] * beta_t1 * pi)\n",
    "\n",
    "From the above two experiments, forward and backward methods could reach the same results on $P(O|\\lambda)$"
   ]
  }
 ],
 "metadata": {
  "kernelspec": {
   "display_name": "Python 3",
   "language": "python",
   "name": "python3"
  },
  "language_info": {
   "codemirror_mode": {
    "name": "ipython",
    "version": 3
   },
   "file_extension": ".py",
   "mimetype": "text/x-python",
   "name": "python",
   "nbconvert_exporter": "python",
   "pygments_lexer": "ipython3",
   "version": "3.7.7"
  }
 },
 "nbformat": 4,
 "nbformat_minor": 4
}
