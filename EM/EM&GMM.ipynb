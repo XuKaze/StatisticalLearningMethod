{
 "cells": [
  {
   "cell_type": "code",
   "execution_count": 1,
   "metadata": {},
   "outputs": [],
   "source": [
    "import numpy as np\n",
    "import matplotlib.pyplot as plt\n",
    "import scipy.stats as ss"
   ]
  },
  {
   "cell_type": "markdown",
   "metadata": {},
   "source": [
    "# EM parameter estimator"
   ]
  },
  {
   "cell_type": "markdown",
   "metadata": {},
   "source": [
    "\n",
    "A, B, C three coins.\n",
    "\n",
    "A head ->B\n",
    "A tail ->C\n",
    "\n",
    "B head ->1\n",
    "B tail ->0\n",
    "\n",
    "C head ->1\n",
    "C tail ->0\n",
    "\n",
    "\n",
    "A is a hidden variable or called latent variable\n",
    "\n",
    "$P(y|\\theta) = \\sum_{z}^{}P(y,z|\\theta) = \\sum_{z} P(z|\\theta)P(y|z, \\theta)$\n"
   ]
  },
  {
   "cell_type": "code",
   "execution_count": 2,
   "metadata": {},
   "outputs": [
    {
     "data": {
      "text/plain": [
       "'\\n\\ntheta_0 = {pi_0, p_0, q_0}\\n\\nP（y|theta)\\n= pi * p^y * (1-p)**(1-y) + (1-pi) * q**y * (1-q)**(1-y)\\n\\n\\n'"
      ]
     },
     "execution_count": 2,
     "metadata": {},
     "output_type": "execute_result"
    }
   ],
   "source": [
    "# Three coins model\n",
    " \n",
    "pi_i0 = 0.4\n",
    "p_i0 = 0.6\n",
    "q_i0 = 0.7\n",
    "\n",
    "seq = [1,1,0,1,0,0,1,0,1,1]\n",
    "seq_vector = np.array(seq)\n",
    "'''\n",
    "\n",
    "theta_0 = {pi_0, p_0, q_0}\n",
    "\n",
    "P（y|theta)\n",
    "= pi * p^y * (1-p)**(1-y) + (1-pi) * q**y * (1-q)**(1-y)\n",
    "\n",
    "\n",
    "'''"
   ]
  },
  {
   "cell_type": "code",
   "execution_count": 3,
   "metadata": {},
   "outputs": [],
   "source": [
    "# calculate the P(A), based on the parameters assumed, E steps\n",
    "\n",
    "def ComputeHiddenP(pi, p, q, y):\n",
    "    '''\n",
    "    pi, P(A) latent variable probability\n",
    "    p,  P(B)\n",
    "    q,  P(C)\n",
    "    y,  coin sequence\n",
    "    \n",
    "    return mu, P(B) based on the assumed parameters\n",
    "    '''\n",
    "    mu = []\n",
    "    for y_i in y:\n",
    "        mu_i = (pi * p**y_i * (1-p)**(1-y_i))/(pi * p**y_i * \\\n",
    "                        (1-p)**(1-y_i) + (1-pi) * q**y_i * (1-q)**(1-y_i))\n",
    "        mu.append(mu_i)\n",
    "    return mu\n",
    "\n"
   ]
  },
  {
   "cell_type": "code",
   "execution_count": 4,
   "metadata": {},
   "outputs": [],
   "source": [
    "def UpdateParameters(mu, y):\n",
    "    '''\n",
    "    mu, numpy array\n",
    "    \n",
    "    '''\n",
    "    seq_vector = np.array(y)\n",
    "    pi = np.sum(mu)/len(mu)\n",
    "    p_i = (np.dot(mu,seq_vector.transpose()))/(np.sum(mu))\n",
    "    q_i = (np.dot(1 - np.array(mu),seq_vector.transpose()))/(np.sum(1 - np.array(mu)))\n",
    "    return pi, p_i, q_i"
   ]
  },
  {
   "cell_type": "code",
   "execution_count": 6,
   "metadata": {},
   "outputs": [
    {
     "name": "stdout",
     "output_type": "stream",
     "text": [
      "0.40641711229946526 0.5368421052631578 0.6432432432432432\n"
     ]
    }
   ],
   "source": [
    "# initial\n",
    "pi_0, p_0, q_0 = 0.4, 0.6, 0.7\n",
    "\n",
    "\n",
    "# iter 1\n",
    "mu_1 = np.array(ComputeHiddenP(pi_0,p_0,q_0, seq))\n",
    "pi_1, p_1, q_1 = UpdateParameters(mu_1, seq_vector)\n",
    "\n",
    "# iter 2\n",
    "mu_2 = np.array(ComputeHiddenP(pi_1, p_1, q_1, seq))\n",
    "pi_2, p_2, q_2 = UpdateParameters(mu_2, seq_vector)\n",
    "\n",
    "# iter 3\n",
    "\n",
    "mu_3 = np.array(ComputeHiddenP(pi_2, p_2, q_2, seq))\n",
    "pi_3, p_3, q_3 = UpdateParameters(mu_3, seq_vector)\n",
    "\n",
    "print(pi_3, p_3, q_3)"
   ]
  },
  {
   "cell_type": "markdown",
   "metadata": {},
   "source": [
    "# Gaussian Mixture Model"
   ]
  },
  {
   "cell_type": "markdown",
   "metadata": {},
   "source": [
    "Clustering the following sequence\n",
    "-67, -48, 6, 8, 14, 16, 23, 24, 28, 29, 41, 49, 56, 60, 75\n",
    "\n",
    "Estimate the parameters for 2 Gaussian distributions  \n",
    "\n",
    "mu_1, sigma_1, mu_2, sigma_2, alpha_k1, alpha_k2\n",
    "alpha_k1 + alpha_k2 = 1\n",
    "\n"
   ]
  },
  {
   "cell_type": "code",
   "execution_count": 7,
   "metadata": {},
   "outputs": [],
   "source": [
    "# Gaussian probability density calculating\n",
    "def GaussianFunction(x, mean, std):\n",
    "    '''\n",
    "    x : array\n",
    "    mean : array\n",
    "    std : array\n",
    "    '''  \n",
    "    return (1/(np.sqrt(2 * np.pi)* std)) * np.exp(-1 * (x - mean)* (x - mean)/(2 * std**2))"
   ]
  },
  {
   "cell_type": "code",
   "execution_count": 8,
   "metadata": {},
   "outputs": [],
   "source": [
    "# Complete data log likelihood function, basically this is the target function which need to be optimized\n",
    "\n",
    "\n",
    "def LogLikelihood(x, mean, std, alpha, zeta):\n",
    "    loglikelihood = 0\n",
    "    for k in range(len(alpha)):\n",
    "            loglikelihood += np.sum(zeta[k]) + zeta[k] * \\\n",
    "            (np.log(1/(np.sqrt(2*np.pi))) - np.log(std[k]) - (1/(2*(std[k]**2))*(x - mean[k])**2))\n",
    "    return np.sum(loglikelihood)\n",
    "        "
   ]
  },
  {
   "cell_type": "code",
   "execution_count": 9,
   "metadata": {},
   "outputs": [],
   "source": [
    "# M step function\n",
    "\n",
    "def maximizationstep(x, k, mean, std, zeta):\n",
    "    mu = []\n",
    "    sigma = []\n",
    "    alpha = []\n",
    "\n",
    "    for i in range(0,k):\n",
    "        \n",
    "        mu_new = np.dot(zeta[i], x)/np.sum(zeta[i])\n",
    "        \n",
    "        sigma_new = np.sqrt((np.dot(zeta[i],((x - mu_new)**2)))/(np.sum(zeta[i])))\n",
    "        \n",
    "        alpha_new = np.sum(zeta[i])/len(zeta[i])\n",
    "        \n",
    "        mu.append(mu_new)\n",
    "        sigma.append(sigma_new)\n",
    "        alpha.append(alpha_new)\n",
    "    \n",
    "    \n",
    "    return mu, sigma, alpha"
   ]
  },
  {
   "cell_type": "code",
   "execution_count": 11,
   "metadata": {},
   "outputs": [
    {
     "name": "stdout",
     "output_type": "stream",
     "text": [
      "iteration 0 finished,  mu is  [0 1] | Sigma is  [1 1] | Alpha is  [0.5, 0.5] Loglikelihood is  0\n",
      "\n",
      "\n",
      "iteration 1 finished,  mu is  [0.5847415939776828, 0.6498941579895441] | Sigma is  [0.27122608317076197, 0.23911814936734863] | Alpha is  [0.4703626351970613, 0.5296373648029388] Loglikelihood is  224.28893475906023\n",
      "\n",
      "\n",
      "iteration 2 finished,  mu is  [0.5694713494116488, 0.6632546131198166] | Sigma is  [0.28783163458167954, 0.21649666085639077] | Alpha is  [0.4692285711624703, 0.5307714288375296] Loglikelihood is  224.6640757667338\n",
      "\n",
      "\n",
      "iteration 3 finished,  mu is  [0.5414885289077966, 0.6861214376575723] | Sigma is  [0.3050950906913587, 0.18146596129354212] | Alpha is  [0.46236096573419927, 0.5376390342658008] Loglikelihood is  225.71289767388615\n",
      "\n",
      "\n",
      "iteration 4 finished,  mu is  [0.5107693696061694, 0.7038809221667734] | Sigma is  [0.31804028875351986, 0.1487663229030275] | Alpha is  [0.4382549606872101, 0.5617450393127899] Loglikelihood is  227.3017992920508\n",
      "\n",
      "\n",
      "iteration 5 finished,  mu is  [0.4885068026421883, 0.7073570516556931] | Sigma is  [0.32616628415882976, 0.13930401179876242] | Alpha is  [0.4025959566496822, 0.5974040433503177] Loglikelihood is  228.14475151436017\n",
      "\n",
      "\n",
      "iteration 6 finished,  mu is  [0.46967691980101345, 0.7071547114536995] | Sigma is  [0.3317046990302629, 0.13840822690364857] | Alpha is  [0.3701646564542043, 0.6298353435457957] Loglikelihood is  228.52607134679351\n",
      "\n",
      "\n",
      "iteration 7 finished,  mu is  [0.45007285017466087, 0.707078909536988] | Sigma is  [0.33493688576206254, 0.13915172088887784] | Alpha is  [0.3417432392988264, 0.6582567607011736] Loglikelihood is  228.7960860172146\n",
      "\n",
      "\n",
      "iteration 8 finished,  mu is  [0.42914274839082484, 0.7074442797104842] | Sigma is  [0.33586300376243455, 0.140203698744861] | Alpha is  [0.3169061018140875, 0.6830938981859125] Loglikelihood is  229.0330350404957\n",
      "\n",
      "\n",
      "iteration 9 finished,  mu is  [0.40725207356831006, 0.7080502068637416] | Sigma is  [0.33460910911294023, 0.14125803270888151] | Alpha is  [0.29521918769836486, 0.7047808123016351] Loglikelihood is  229.25458392131196\n",
      "\n",
      "\n",
      "iteration 10 finished,  mu is  [0.3848471820660406, 0.7087092315317869] | Sigma is  [0.3313827646484411, 0.14221658007788338] | Alpha is  [0.2762299731885349, 0.7237700268114651] Loglikelihood is  229.46694530831414\n",
      "\n",
      "\n",
      "iteration 11 finished,  mu is  [0.3622230870187485, 0.7093118380131496] | Sigma is  [0.32638021431938663, 0.14304727569487036] | Alpha is  [0.25948121759648296, 0.7405187824035168] Loglikelihood is  229.6739800916516\n",
      "\n",
      "\n",
      "iteration 12 finished,  mu is  [0.3394608331041483, 0.7098068183974465] | Sigma is  [0.3197143697885499, 0.14374848743844632] | Alpha is  [0.24452267798893157, 0.7554773220110685] Loglikelihood is  229.87933867047133\n",
      "\n",
      "\n",
      "iteration 13 finished,  mu is  [0.31642464973714557, 0.710172541154801] | Sigma is  [0.3113664244942726, 0.14433133227999181] | Alpha is  [0.23091860768157554, 0.7690813923184244] Loglikelihood is  230.08742030724426\n",
      "\n",
      "\n",
      "iteration 14 finished,  mu is  [0.2927739690943331, 0.710394502474319] | Sigma is  [0.30114378659772667, 0.14480912060416654] | Alpha is  [0.2182499874839903, 0.7817500125160097] Loglikelihood is  230.30405828057653\n",
      "\n",
      "\n",
      "iteration 15 finished,  mu is  [0.2679654131642797, 0.7104494736115545] | Sigma is  [0.28862102587014593, 0.14519159759822378] | Alpha is  [0.20611058221687514, 0.7938894177831249] Loglikelihood is  230.5372818226388\n",
      "\n",
      "\n",
      "iteration 16 finished,  mu is  [0.2412345873297419, 0.7102922867548611] | Sigma is  [0.2730352595915523, 0.14548213874699154] | Alpha is  [0.1940986377056912, 0.8059013622943088] Loglikelihood is  230.79853633114797\n",
      "\n",
      "\n",
      "iteration 17 finished,  mu is  [0.21156256341611715, 0.7098417883279865] | Sigma is  [0.25308421637840406, 0.14567753337168687] | Alpha is  [0.18181163794844116, 0.8181883620515589] Loglikelihood is  231.1050270294528\n",
      "\n",
      "\n",
      "iteration 18 finished,  mu is  [0.1776692869427136, 0.7089694149975849] | Sigma is  [0.22648141574709163, 0.14577424758635638] | Alpha is  [0.16886987969488876, 0.8311301203051114] Loglikelihood is  231.48529310397436\n",
      "\n",
      "\n",
      "iteration 19 finished,  mu is  [0.13830638903306675, 0.7075243862878333] | Sigma is  [0.18879040120594584, 0.1457941206361389] | Alpha is  [0.15508216609891157, 0.8449178339010884] Loglikelihood is  231.99812279254928\n",
      "\n",
      "\n"
     ]
    }
   ],
   "source": [
    "# the observations need to be clustered\n",
    "y = np.array([-67, -48, 6, 8, 14, 16, 23, 24, 28, 29, 41, 49, 56, 60, 75])\n",
    "y = (y - np.min(y))/(np.max(y) - np.min(y))\n",
    "# inital settings: numbers of iterations, inital alpha, mu, sigma\n",
    "iters = 20\n",
    "alpha_k1 = 0.5\n",
    "mu_1, sigma_1 =  0, 1\n",
    "mu_2, sigma_2 =  1, 1\n",
    "loglikelihood = 0\n",
    "mu_current = np.array([mu_1, mu_2])\n",
    "sigma_current = np.array([sigma_1, sigma_2])\n",
    "alpha_current = [alpha_k1, 1 - alpha_k1]\n",
    "\n",
    "# Training Process\n",
    "for i in range(0, iters):\n",
    "    # E step  \n",
    "    mu = mu_current\n",
    "    sigma = sigma_current\n",
    "    alpha = alpha_current\n",
    "    \n",
    "    print('iteration', str(i) ,'finished, ',  'mu is ', mu_current, '| Sigma is ' ,sigma_current ,'| Alpha is ' ,alpha, \\\n",
    "          'Loglikelihood is ', loglikelihood)\n",
    "    print('\\n')\n",
    "    \n",
    "\n",
    "    zeta = []\n",
    "    \n",
    "    zeta_k1 = alpha[0] * GaussianFunction(y, mu[0], sigma[0])\n",
    "    zeta_k2 = alpha[1] * GaussianFunction(y, mu[1], sigma[1])\n",
    "          \n",
    "    zeta_sum = zeta_k1 + zeta_k2\n",
    "    \n",
    "    zeta.append(zeta_k1/zeta_sum)\n",
    "    zeta.append(zeta_k2/zeta_sum)\n",
    "            \n",
    "    # M step\n",
    "    mu_current, sigma_current, alpha_current = maximizationstep(y, 2, mu, sigma, zeta)\n",
    "    loglikelihood = LogLikelihood(y, mu_current, sigma_current, alpha_current, zeta)"
   ]
  },
  {
   "cell_type": "code",
   "execution_count": 12,
   "metadata": {},
   "outputs": [],
   "source": [
    "# Using the parameters we found calculates the probability for each observations\n",
    "predict_0 = GaussianFunction(y, mu_current[0], sigma_current[0]) * alpha[0]\n",
    "predict_1 = GaussianFunction(y, mu_current[1], sigma_current[1]) * alpha[1]"
   ]
  },
  {
   "cell_type": "code",
   "execution_count": 13,
   "metadata": {},
   "outputs": [
    {
     "data": {
      "text/plain": [
       "[1, 1, 0, 0, 0, 0, 0, 0, 0, 0, 0, 0, 0, 0, 0]"
      ]
     },
     "execution_count": 13,
     "metadata": {},
     "output_type": "execute_result"
    }
   ],
   "source": [
    "# label the observations based on their probabilities\n",
    "label = []\n",
    "for i in range(len(predict_0)):\n",
    "    if predict_0[i] > predict_1[i]:\n",
    "        label.append(1)\n",
    "    else:\n",
    "        label.append(0)\n",
    "label"
   ]
  },
  {
   "cell_type": "code",
   "execution_count": 14,
   "metadata": {},
   "outputs": [
    {
     "data": {
      "image/png": "[encoded data removed]",
      "text/plain": [
       "<Figure size 432x288 with 1 Axes>"
      ]
     },
     "metadata": {
      "needs_background": "light"
     },
     "output_type": "display_data"
    }
   ],
   "source": [
    "# visualize two Gaussian distributions, \n",
    "x  = np.linspace(-1, 1, 5000)\n",
    "y_pdf1 = ss.norm.pdf(x, mu_current[0], sigma_current[0])\n",
    "y_pdf2 = ss.norm.pdf(x, mu_current[1], sigma_current[1])\n",
    "plt.plot(x, y_pdf1, label='pdf')\n",
    "plt.plot(x, y_pdf2, label='pdf')\n",
    "plt.show()"
   ]
  },
  {
   "cell_type": "code",
   "execution_count": 15,
   "metadata": {
    "scrolled": true
   },
   "outputs": [
    {
     "data": {
      "text/plain": [
       "[]"
      ]
     },
     "execution_count": 15,
     "metadata": {},
     "output_type": "execute_result"
    },
    {
     "data": {
      "image/png": "[encoded data removed]",
      "text/plain": [
       "<Figure size 432x288 with 1 Axes>"
      ]
     },
     "metadata": {
      "needs_background": "light"
     },
     "output_type": "display_data"
    }
   ],
   "source": [
    "# visulize the clustering results\n",
    "x = np.arange(0,15,1)\n",
    "group = label\n",
    "plt.scatter(x,y,c=group,label=label)\n",
    "plt.plot()"
   ]
  }
 ],
 "metadata": {
  "kernelspec": {
   "display_name": "Python 3",
   "language": "python",
   "name": "python3"
  },
  "language_info": {
   "codemirror_mode": {
    "name": "ipython",
    "version": 3
   },
   "file_extension": ".py",
   "mimetype": "text/x-python",
   "name": "python",
   "nbconvert_exporter": "python",
   "pygments_lexer": "ipython3",
   "version": "3.7.7"
  }
 },
 "nbformat": 4,
 "nbformat_minor": 4
}
